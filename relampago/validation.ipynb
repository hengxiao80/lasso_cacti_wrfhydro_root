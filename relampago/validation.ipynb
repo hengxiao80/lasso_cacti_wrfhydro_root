{
 "cells": [
  {
   "cell_type": "code",
   "execution_count": null,
   "metadata": {},
   "outputs": [],
   "source": [
    "%config InlineBackend.figure_format='png'\n",
    "%matplotlib inline\n",
    "\n",
    "import numpy as np\n",
    "import matplotlib.pyplot as plt\n",
    "import matplotlib.ticker as ticker\n",
    "import seaborn as sns\n",
    "import colorcet as cc\n",
    "import cartopy.crs as crs\n",
    "from netCDF4 import Dataset as ds\n",
    "import xarray as xr\n",
    "\n",
    "from datetime import datetime, timedelta\n",
    "from cftime import date2num, num2pydate\n",
    "import pickle"
   ]
  },
  {
   "cell_type": "code",
   "execution_count": null,
   "metadata": {},
   "outputs": [],
   "source": [
    "# no data for stations # 2, 9, 10\n",
    "# significant portion of data missing for stations # 1\n",
    "# There are also portions of data missing for several other stations but mainly in the earlier period.\n",
    "rela = ds(\"/ccs/home/h1x/scratchp/wrfhydro_cacti/relampago/RELAMPAGO_Site_Data_20180501_20190501.nc\")\n",
    "lonp = rela['lon'][:]\n",
    "latp = rela['lat'][:]"
   ]
  },
  {
   "cell_type": "code",
   "execution_count": null,
   "metadata": {},
   "outputs": [],
   "source": [
    "def find_ind(lati, loni, latp, lonp, dom):\n",
    "    id1 = np.empty(15, dtype=np.int64) \n",
    "    id2 = np.empty(15, dtype=np.int64) \n",
    "    for i in range(15):\n",
    "        a, b = np.where((lati[1:,:] > latp[i]) & (lati[:-1,:] <= latp[i]) & (loni[:,1:] > lonp[i]) & (loni[:, :-1] <= lonp[i]))\n",
    "        if len(a)*len(b) == 0:\n",
    "            print(f\"Station {i+1} at {lonp[i]}E, {latp[i]}N is not in the domain {dom}.\")\n",
    "            id1[i] = -9999\n",
    "            id2[i] = -9999\n",
    "        else:\n",
    "            id1[i] = a[0]\n",
    "            id2[i] = b[0]\n",
    "    return id1, id2\n",
    "\n",
    "era5land_d1 = ds(\"/ccs/home/h1x/scratchp/wrfhydro_cacti/era5-land/regridded/d01/swvl1_201901250000.nc\")\n",
    "era5land_d2 = ds(\"/ccs/home/h1x/scratchp/wrfhydro_cacti/era5-land/regridded/d02/swvl1_201901250000.nc\")\n",
    "wo_d2 = ds(\n",
    "    \"/ccs/home/h1x/scratchp/wrfhydro_cacti/wrfhydro2wrfinput/original\"\n",
    "    \"/20190125/era5eda_en01\"\n",
    "    \"/run20190125_thom_k150ptop11_dzbot25_dzsts1.05_dzstu1.05/wrfinput_d02\"\n",
    ")\n",
    "wo_d1 = ds(\n",
    "    \"/ccs/home/h1x/scratchp/wrfhydro_cacti/wrfhydro2wrfinput/original\"\n",
    "    \"/20190125/era5eda_en01\"\n",
    "    \"/run20190125_thom_k150ptop11_dzbot25_dzsts1.05_dzstu1.05/wrfinput_d01\"\n",
    ")\n",
    "lati_d1 = wo_d1['XLAT_V'][0,:,:]\n",
    "loni_d1 = wo_d1['XLONG_U'][0,:,:]\n",
    "lati_d2 = wo_d2['XLAT_V'][0,:,:]\n",
    "loni_d2 = wo_d2['XLONG_U'][0,:,:]\n",
    "id1_d1, id2_d1 = find_ind(lati_d1, loni_d1, latp, lonp, 1)\n",
    "id1_d2, id2_d2 = find_ind(lati_d2, loni_d2, latp, lonp, 2)"
   ]
  },
  {
   "cell_type": "code",
   "execution_count": null,
   "metadata": {},
   "outputs": [],
   "source": [
    "def plot_sml1(dom, forcing, date, lonp, latp):\n",
    "    wo = ds(\n",
    "        f\"/ccs/home/h1x/scratchp/wrfhydro_cacti/wrfhydro2wrfinput/original/{date[:8]}/{forcing}/run20190125_thom_k150ptop11_dzbot25_dzsts1.05_dzstu1.05/wrfinput_{dom}\"\n",
    "    )\n",
    "    wm = ds(\n",
    "        f\"/ccs/home/h1x/scratchp/wrfhydro_cacti/wrfhydro2wrfinput/modified/{date[:8]}/{forcing}/run20190125_thom_k150ptop11_dzbot25_dzsts1.05_dzstu1.05/wrfinput_{dom}\"\n",
    "    )\n",
    "    era5land = ds(\n",
    "        f\"/ccs/home/h1x/scratchp/wrfhydro_cacti/era5-land/regridded/{dom}/swvl1_{date}.nc\"\n",
    "    )\n",
    "\n",
    "    titles = [f\"WRF-{forcing}\", \"WRF-Hydro\", \"ERA5-land\"]\n",
    "    vars = [\n",
    "        wo[\"SMOIS\"][0, 0, :, :],\n",
    "        wm[\"SMOIS\"][0, 0, :, :],\n",
    "        era5land[\"swvl1\"][0, :, :],\n",
    "    ]\n",
    "    lon = wo[\"XLONG\"][0, :, :]\n",
    "    lat = wo[\"XLAT\"][0, :, :]\n",
    "\n",
    "    sns.set()\n",
    "    sns.set_context(\"poster\")\n",
    "    sns.set_style(\"ticks\")\n",
    "    # levs = None\n",
    "    levs = np.arange(0.0, 0.65, 0.08)\n",
    "    fig = plt.figure(figsize=(25, 9))\n",
    "    fig.suptitle(f\"Topmost layer Soil Moisture (m**3/m**3) - {dom} - {date}\")\n",
    "    axes = fig.subplots(1, 3, subplot_kw={\"projection\": crs.PlateCarree()})\n",
    "    for ax, var, title in zip(axes, vars, titles):\n",
    "        ax.contour(lon, lat, var, levels=levs, linewidths=1.5, colors=\"black\")\n",
    "        ct = ax.contourf(\n",
    "            lon, lat, var, levels=levs, extend=\"neither\", cmap=cc.cm.coolwarm\n",
    "        )\n",
    "        ax.set_xlim(lon.min(), lon.max())\n",
    "        ax.set_ylim(lat.min(), lat.max())\n",
    "        gl = ax.gridlines(\n",
    "            color=\"black\",\n",
    "            linestyle=\"dotted\",\n",
    "            draw_labels=True,\n",
    "            x_inline=False,\n",
    "            y_inline=False,\n",
    "        )\n",
    "        gl.xlocator = ticker.MultipleLocator(3)\n",
    "        gl.ylocator = ticker.MultipleLocator(2)\n",
    "        gl.right_labels = False\n",
    "        gl.top_labels = False\n",
    "        ax.set_title(title)\n",
    "        for i in range(15):\n",
    "            ax.text(\n",
    "                lonp[i],\n",
    "                latp[i],\n",
    "                f\"{i+1}\",\n",
    "                fontsize=15,\n",
    "                fontweight=\"bold\",\n",
    "                ha=\"center\",\n",
    "                va=\"center\",\n",
    "                color=\"green\",\n",
    "            )\n",
    "    plt.colorbar(ct, ax=axes, fraction=0.05, orientation=\"horizontal\")\n",
    "    # plt.tight_layout()\n",
    "    fig.savefig(f\"sml1.{dom}.{forcing}.{date}.png\")\n",
    "    plt.show()"
   ]
  },
  {
   "cell_type": "code",
   "execution_count": null,
   "metadata": {},
   "outputs": [],
   "source": [
    "plot_sml1('d01', 'era5eda_en01', '201901250000', lonp, latp)\n",
    "plot_sml1('d02', 'era5eda_en01', '201901250000', lonp, latp)"
   ]
  },
  {
   "cell_type": "code",
   "execution_count": null,
   "metadata": {},
   "outputs": [],
   "source": [
    "start_time = datetime.strptime(\"201808010100\", \"%Y%m%d%H%M\")\n",
    "end_time = datetime.strptime(\"201903210000\", \"%Y%m%d%H%M\")\n",
    "dt = timedelta(seconds=3600)\n",
    "nt = int((end_time - start_time)/dt) + 1"
   ]
  },
  {
   "cell_type": "code",
   "execution_count": null,
   "metadata": {},
   "outputs": [],
   "source": [
    "def extract_stns(dom, start_time, nt, dt, id1, id2):\n",
    "    sme = np.zeros((15, nt))\n",
    "    smh = np.zeros((15, nt))\n",
    "    for t in range(nt):\n",
    "        date = (start_time + t * dt).strftime(\"%Y%m%d%H%M\")\n",
    "        print(date)\n",
    "        era = ds(\n",
    "            f\"/ccs/home/h1x/scratchp/wrfhydro_cacti/era5-land/regridded/{dom}/swvl1_{date}.nc\"\n",
    "        )\n",
    "        wrfhydro = ds(\n",
    "            f\"/ccs/home/h1x/scratchp/wrfhydro_cacti/wrfhydro_run/run01_{dom}/out/{date}.LDASOUT_DOMAIN{dom[-1]}\"\n",
    "        )\n",
    "        sm_era = era[\"swvl1\"][0, :, :]\n",
    "        sm_wrfhydro = wrfhydro[\"SOIL_M\"][0, :, 0, :]\n",
    "        for s in range(15):\n",
    "            if id1[s] != -9999:\n",
    "                sme[s, t] = sm_era[id1[s], id2[s]]\n",
    "                smh[s, t] = sm_wrfhydro[id1[s], id2[s]]\n",
    "        era.close()\n",
    "        wrfhydro.close()\n",
    "    with open(f\"sme_{dom}.pkl\", \"wb\") as f:\n",
    "        pickle.dump(sme, f, protocol=-1)\n",
    "    with open(f\"smh_{dom}.pkl\", \"wb\") as f:\n",
    "        pickle.dump(smh, f, protocol=-1)\n",
    "    return\n",
    "# extract_stns('d01', start_time, nt, dt, id1_d1, id2_d1)\n",
    "# extract_stns('d02', start_time, nt, dt, id1_d2, id2_d2)"
   ]
  },
  {
   "cell_type": "code",
   "execution_count": null,
   "metadata": {},
   "outputs": [],
   "source": [
    "with open('sme_d01.pkl', 'rb') as f:\n",
    "    sme_d01 = pickle.load(f)\n",
    "with open('sme_d02.pkl', 'rb') as f:\n",
    "    sme_d02 = pickle.load(f)\n",
    "with open('smh_d01.pkl', 'rb') as f:\n",
    "    smh_d01 = pickle.load(f)\n",
    "with open('smh_d02.pkl', 'rb') as f:\n",
    "    smh_d02 = pickle.load(f)"
   ]
  },
  {
   "cell_type": "code",
   "execution_count": null,
   "metadata": {},
   "outputs": [],
   "source": [
    "tm = [start_time+i*dt for i in range(nt)]\n",
    "trn = rela['time'][:]\n",
    "units = rela['time'].units\n",
    "trn_m = date2num(tm, units=units)\n",
    "ind_m  = np.in1d(trn, trn_m).nonzero()[0]\n",
    "tr = [num2pydate(t, units=units) for t in trn]"
   ]
  },
  {
   "cell_type": "code",
   "execution_count": null,
   "metadata": {},
   "outputs": [],
   "source": [
    "def plot_station(i, smh_d01, sme_d01, smh_d02, sme_d02, tm, rela, tr, ind_m):\n",
    "    sns.set()\n",
    "    sns.set_context('poster')\n",
    "    sns.set_style('ticks')\n",
    "    fig = plt.figure(figsize=(18,6))\n",
    "    rela_m = rela['Soil_moist_5cm'][i-1, ind_m]\n",
    "    me_h = (smh_d01[i-1,:] - rela_m).mean()\n",
    "    me_e = (sme_d01[i-1,:] - rela_m).mean()\n",
    "    rmse_h = np.sqrt(((smh_d01[i-1,:] - rela_m)**2).mean())\n",
    "    rmse_e = np.sqrt(((sme_d01[i-1,:] - rela_m)**2).mean())\n",
    "    plt.plot(tm, smh_d01[i-1,:], color='red', label=f'WRF-HYDRO D01, M.Err.={me_h:.6f}, RMSE={rmse_h:.6f}')\n",
    "    # plt.plot(tm, smh_d02[i-1,:], color='red', linestyle='--', label='WRF-HYDRO D02')\n",
    "    plt.plot(tm, sme_d01[i-1,:], color='blue', label=f'ERA5-land D01, M.Err.={me_e:.6f}, RMSE={rmse_e:.6f}')\n",
    "    # plt.plot(tm, sme_d02[i-1,:], color='blue', linestyle='--', label='ERA5-land D02')\n",
    "    plt.plot(tr, rela['Soil_moist_5cm'][i-1,:], color='black', label='RELAMPAGO')\n",
    "    plt.legend()\n",
    "    plt.xlim(tm[0], tm[-1])\n",
    "    plt.ylim(0, 0.6)\n",
    "    plt.title(f'Station #{i} Top Layer Soil Moisture (m**3/m**3)')\n",
    "    fig.savefig(f'sml1.stn{i}.png')\n",
    "    plt.show()"
   ]
  },
  {
   "cell_type": "code",
   "execution_count": null,
   "metadata": {},
   "outputs": [],
   "source": [
    "for i in range(15):\n",
    "    plot_station(i+1, smh_d01, sme_d01, smh_d02, sme_d02, tm, rela, tr, ind_m)"
   ]
  },
  {
   "cell_type": "code",
   "execution_count": null,
   "metadata": {},
   "outputs": [],
   "source": [
    "# east = np.asarray([3, 6, 13, 5]) - 1\n",
    "east1 = np.asarray([3, 6, 13, 5]) - 1\n",
    "east2 = np.asarray([3, 13, 5]) - 1\n",
    "west = np.asarray([4, 8, 12, 15]) - 1\n",
    "g_smh_d01 = smh_d01[east1,:].mean(axis=0) - smh_d01[west,:].mean(axis=0)\n",
    "g_smh_d02 = smh_d02[east2,:].mean(axis=0) - smh_d02[west,:].mean(axis=0)\n",
    "g_sme_d01 = sme_d01[east1,:].mean(axis=0) - sme_d01[west,:].mean(axis=0)\n",
    "g_sme_d02 = sme_d02[east2,:].mean(axis=0) - sme_d02[west,:].mean(axis=0)\n",
    "g_rela_d01 = rela['Soil_moist_5cm'][east1,:].mean(axis=0) - rela['Soil_moist_5cm'][west,:].mean(axis=0)\n",
    "g_rela_d02 = rela['Soil_moist_5cm'][east2,:].mean(axis=0) - rela['Soil_moist_5cm'][west,:].mean(axis=0)\n",
    "g_rela_d01_m = g_rela_d01[ind_m]\n",
    "g_rela_d02_m = g_rela_d02[ind_m]"
   ]
  },
  {
   "cell_type": "code",
   "execution_count": null,
   "metadata": {},
   "outputs": [],
   "source": [
    "print(\n",
    "    g_smh_d01.mean(),\n",
    "    g_smh_d02.mean(),\n",
    "    g_sme_d01.mean(),\n",
    "    g_sme_d02.mean(),\n",
    "    g_rela_d01_m.mean(),\n",
    "    g_rela_d02_m.mean(),\n",
    ")\n",
    "\n"
   ]
  },
  {
   "cell_type": "code",
   "execution_count": null,
   "metadata": {},
   "outputs": [],
   "source": [
    "me_g_smh_d01 = g_smh_d01.mean() - g_rela_d01_m.mean()\n",
    "me_g_sme_d01 = g_sme_d02.mean() - g_rela_d02_m.mean()"
   ]
  },
  {
   "cell_type": "code",
   "execution_count": null,
   "metadata": {},
   "outputs": [],
   "source": [
    "me_g_smh_d01_alt = g_smh_d01[1464:].mean() - g_rela_d01_m[1464:].mean()\n",
    "me_g_sme_d01_alt = g_sme_d02[1464:].mean() - g_rela_d02_m[1464:].mean()"
   ]
  },
  {
   "cell_type": "code",
   "execution_count": null,
   "metadata": {},
   "outputs": [],
   "source": [
    "rmse_g_smh_d01 = np.sqrt(((g_smh_d01 - g_rela_d01_m) ** 2).mean())\n",
    "rmse_g_sme_d01 = np.sqrt(((g_sme_d01 - g_rela_d01_m) ** 2).mean())"
   ]
  },
  {
   "cell_type": "code",
   "execution_count": null,
   "metadata": {},
   "outputs": [],
   "source": [
    "rmse_g_smh_d01_alt = np.sqrt(((g_smh_d01[1464:] - g_rela_d01_m[1464:]) ** 2).mean())\n",
    "rmse_g_sme_d01_alt = np.sqrt(((g_sme_d01[1464:] - g_rela_d01_m[1464:]) ** 2).mean())"
   ]
  },
  {
   "cell_type": "code",
   "execution_count": null,
   "metadata": {},
   "outputs": [],
   "source": [
    "print(\n",
    "    g_smh_d01[1464:].mean(),\n",
    "    g_smh_d02[1464:].mean(),\n",
    "    g_sme_d01[1464:].mean(),\n",
    "    g_sme_d02[1464:].mean(),\n",
    "    g_rela_d01_m[1464:].mean(),\n",
    "    g_rela_d02_m[1464:].mean(),\n",
    ")\n",
    "\n"
   ]
  },
  {
   "cell_type": "code",
   "execution_count": null,
   "metadata": {},
   "outputs": [],
   "source": [
    "print(\n",
    "    np.sqrt(((g_smh_d01 - g_rela_d01_m) ** 2).mean()),\n",
    "    np.sqrt(((g_smh_d02 - g_rela_d02_m) ** 2).mean()),\n",
    "    np.sqrt(((g_sme_d01 - g_rela_d01_m) ** 2).mean()),\n",
    "    np.sqrt(((g_sme_d02 - g_rela_d02_m) ** 2).mean()),\n",
    ")\n",
    "\n"
   ]
  },
  {
   "cell_type": "code",
   "execution_count": null,
   "metadata": {},
   "outputs": [],
   "source": [
    "print(\n",
    "    np.sqrt(((g_smh_d01[1464:] - g_rela_d01_m[1464:]) ** 2).mean()),\n",
    "    np.sqrt(((g_smh_d02[1464:] - g_rela_d02_m[1464:]) ** 2).mean()),\n",
    "    np.sqrt(((g_sme_d01[1464:] - g_rela_d01_m[1464:]) ** 2).mean()),\n",
    "    np.sqrt(((g_sme_d02[1464:] - g_rela_d02_m[1464:]) ** 2).mean()),\n",
    ")\n",
    "\n"
   ]
  },
  {
   "cell_type": "code",
   "execution_count": null,
   "metadata": {},
   "outputs": [],
   "source": [
    "sns.set()\n",
    "sns.set_context('poster')\n",
    "sns.set_style('ticks')\n",
    "fig = plt.figure(figsize=(18,6))\n",
    "plt.plot(tm, g_sme_d01, color='blue', label=f'ERA5-land, M.Err.={me_g_sme_d01:.6f}({me_g_sme_d01_alt:.6f}), RMSE={rmse_g_sme_d01:.6f}({rmse_g_sme_d01_alt:.6f})')\n",
    "plt.plot(tm, g_smh_d01, color='red', label=f'WRF-HYDRO, M.Err.={me_g_smh_d01:.6f}({me_g_smh_d01_alt:.6f}), RMSE={rmse_g_smh_d01:.6f}({rmse_g_smh_d01_alt:.6f})')\n",
    "# plt.plot(tm, g_smh_d02, color='red', linestyle='--', label='WRF-HYDRO D02')\n",
    "# plt.plot(tm, g_sme_d02, color='blue', linestyle='--', label='ERA5-land D02')\n",
    "plt.plot(tr, g_rela, color='black', label='RELAMPAGO')\n",
    "plt.legend()\n",
    "plt.xlim(tm[0], tm[-1])\n",
    "# plt.ylim(0, 0.6)\n",
    "plt.title(f'East-West Top Layer Soil Moisture Difference (m**3/m**3) d01')\n",
    "fig.savefig(f'sml1.d01.e-w.png')\n",
    "plt.show()"
   ]
  }
 ],
 "metadata": {
  "interpreter": {
   "hash": "892e8f371a11fde5a8488ff10ea8fd04a2c1e421ab93a689bb69b27d45be4900"
  },
  "kernelspec": {
   "display_name": "Python 3.8.10 64-bit ('wrf-python': conda)",
   "name": "python3"
  },
  "language_info": {
   "codemirror_mode": {
    "name": "ipython",
    "version": 3
   },
   "file_extension": ".py",
   "mimetype": "text/x-python",
   "name": "python",
   "nbconvert_exporter": "python",
   "pygments_lexer": "ipython3",
   "version": "3.8.10"
  }
 },
 "nbformat": 4,
 "nbformat_minor": 2
}
