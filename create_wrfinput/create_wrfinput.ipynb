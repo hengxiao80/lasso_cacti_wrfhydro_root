{
 "cells": [
  {
   "cell_type": "code",
   "execution_count": null,
   "metadata": {},
   "outputs": [],
   "source": [
    "%config InlineBackend.figure_format='png'\n",
    "%matplotlib inline"
   ]
  },
  {
   "cell_type": "code",
   "execution_count": null,
   "metadata": {},
   "outputs": [],
   "source": [
    "from netCDF4 import Dataset\n",
    "import numpy as np\n",
    "from scipy.interpolate import interp1d"
   ]
  },
  {
   "cell_type": "code",
   "execution_count": null,
   "metadata": {},
   "outputs": [],
   "source": [
    "template = Dataset('../create_wrfinput_r/wrfinput_d01_new.nc', 'r+')\n",
    "met_data = Dataset('../metgrid4wrfinput/met_em.d01.2018-08-01_00:00:00.nc', 'r')"
   ]
  },
  {
   "cell_type": "code",
   "execution_count": null,
   "metadata": {},
   "outputs": [],
   "source": [
    "met_data_vars = list(met_data.variables.keys())\n",
    "for a, b, c, d in zip(\n",
    "    met_data_vars[::4], met_data_vars[1::4], met_data_vars[2::4], met_data_vars[3::4]\n",
    "):\n",
    "    print((\"{:<16s}\" * 4).format(a, b, c, d))\n"
   ]
  },
  {
   "cell_type": "code",
   "execution_count": null,
   "metadata": {},
   "outputs": [],
   "source": [
    "template_vars = list(template.variables.keys())\n",
    "for a, b, c, d in zip(\n",
    "    template_vars[::4], template_vars[1::4], template_vars[2::4], template_vars[3::4]\n",
    "):\n",
    "    print((\"{:<16s}\" * 4).format(a, b, c, d))"
   ]
  },
  {
   "cell_type": "code",
   "execution_count": null,
   "metadata": {},
   "outputs": [],
   "source": [
    "tslb = template.variables['TSLB']\n",
    "smois = template.variables['SMOIS']\n",
    "tmn = template.variables['TMN']\n",
    "tsk = template.variables['TSK']\n",
    "tsk_met = met_data.variables['SKINTEMP']\n",
    "st_met = met_data.variables['ST']\n",
    "sm_met = met_data.variables['SM']"
   ]
  },
  {
   "cell_type": "code",
   "execution_count": null,
   "metadata": {},
   "outputs": [],
   "source": [
    "print(tslb[:].dtype)"
   ]
  },
  {
   "cell_type": "code",
   "execution_count": null,
   "metadata": {},
   "outputs": [],
   "source": [
    "print(np.ma.count_masked(sm_met[:]))"
   ]
  },
  {
   "cell_type": "code",
   "execution_count": null,
   "metadata": {},
   "outputs": [],
   "source": [
    "dzs = template.variables['DZS']\n",
    "zs = template.variables['ZS']\n",
    "zs_1d = zs[0,:]"
   ]
  },
  {
   "cell_type": "code",
   "execution_count": null,
   "metadata": {},
   "outputs": [],
   "source": [
    "print(zs_1d)"
   ]
  },
  {
   "cell_type": "code",
   "execution_count": null,
   "metadata": {},
   "outputs": [],
   "source": [
    "print(dzs[0,:])"
   ]
  },
  {
   "cell_type": "code",
   "execution_count": null,
   "metadata": {},
   "outputs": [],
   "source": [
    "zsi_met = met_data.variables['SOIL_LAYERS']\n",
    "zsi_met_1d = zsi_met[0,:,0,0]\n",
    "zsi_met_1d_flipped = zsi_met_1d[::-1]"
   ]
  },
  {
   "cell_type": "code",
   "execution_count": null,
   "metadata": {},
   "outputs": [],
   "source": [
    "print(zsi_met_1d_flipped)"
   ]
  },
  {
   "cell_type": "code",
   "execution_count": null,
   "metadata": {},
   "outputs": [],
   "source": [
    "nt, nz, ny, nx = tslb.shape\n",
    "print(nt, nz, ny, nx)"
   ]
  },
  {
   "cell_type": "code",
   "execution_count": null,
   "metadata": {},
   "outputs": [],
   "source": [
    "st_met_expanded = np.zeros((nt,nz+2, ny, nx), dtype=tslb[:].dtype)"
   ]
  },
  {
   "cell_type": "code",
   "execution_count": null,
   "metadata": {},
   "outputs": [],
   "source": [
    "st_met_expanded[0,0,:,:] = tsk_met[0,:,:]\n",
    "st_met_expanded[0,-1,:,:] = tmn[0,:,:]\n",
    "st_met_expanded[0,1:-1,:,:] = st_met[0,::-1,:,:]"
   ]
  },
  {
   "cell_type": "code",
   "execution_count": null,
   "metadata": {},
   "outputs": [],
   "source": [
    "sm_met_expanded = np.zeros((nt,nz+2, ny, nx), dtype=tslb[:].dtype)"
   ]
  },
  {
   "cell_type": "code",
   "execution_count": null,
   "metadata": {},
   "outputs": [],
   "source": [
    "sm_met_expanded[0,0,:,:] = sm_met[0,-1,:,:]\n",
    "sm_met_expanded[0,-1,:,:] = sm_met[0,0,:,:]\n",
    "sm_met_expanded[0,1:-1,:,:] = sm_met[0,::-1,:,:]"
   ]
  },
  {
   "cell_type": "code",
   "execution_count": null,
   "metadata": {},
   "outputs": [],
   "source": [
    "zsi1 = np.insert(zsi_met_1d_flipped, 0, 0.0)\n",
    "z_met_expanded = np.zeros(sm_met_expanded.shape[1], dtype = zs.dtype)\n",
    "z_met_expanded[-1] = 3.0\n",
    "z_met_expanded[1:-1] = (zsi1[:-1] + zsi1[1:])/2.0/100.0"
   ]
  },
  {
   "cell_type": "code",
   "execution_count": null,
   "metadata": {},
   "outputs": [],
   "source": [
    "print(z_met_expanded)"
   ]
  },
  {
   "cell_type": "code",
   "execution_count": null,
   "metadata": {},
   "outputs": [],
   "source": [
    "f = interp1d(z_met_expanded, st_met_expanded, kind='linear', axis=1)\n",
    "tslb = f(zs)\n",
    "del f"
   ]
  },
  {
   "cell_type": "code",
   "execution_count": null,
   "metadata": {},
   "outputs": [],
   "source": [
    "f = interp1d(z_met_expanded, sm_met_expanded, kind='linear', axis=1)\n",
    "smois = f(zs)\n",
    "del f"
   ]
  }
 ],
 "metadata": {
  "kernelspec": {
   "display_name": "Python 3.9.2 64-bit ('wrfhydro': conda)",
   "name": "python392jvsc74a57bd06a7ca456f7e14b5e3326be24d6803ff46ee083b0d546a469a63103166ae8bfea"
  },
  "language_info": {
   "name": "python",
   "version": ""
  },
  "metadata": {
   "interpreter": {
    "hash": "6a7ca456f7e14b5e3326be24d6803ff46ee083b0d546a469a63103166ae8bfea"
   }
  }
 },
 "nbformat": 4,
 "nbformat_minor": 2
}
