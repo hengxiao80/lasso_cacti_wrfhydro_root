{
 "cells": [
  {
   "cell_type": "markdown",
   "metadata": {},
   "source": [
    "# Validating regridded ERA5-land data"
   ]
  },
  {
   "cell_type": "markdown",
   "metadata": {},
   "source": [
    "Validating the ERA5-land data regridded onto WRF grid using [my own script](https://github.com/hengxiao80/regrid_era5land.git)."
   ]
  },
  {
   "cell_type": "code",
   "execution_count": null,
   "metadata": {},
   "outputs": [],
   "source": [
    "import numpy as np\n",
    "\n",
    "import matplotlib.pyplot as plt\n",
    "import seaborn as sns\n",
    "import colorcet as cc\n",
    "import cartopy.crs as crs\n",
    "\n",
    "# import glob\n",
    "\n",
    "from netCDF4 import Dataset as ds\n",
    "import xarray as xr\n",
    "import cftime\n",
    "from datetime import datetime\n",
    "# from netCDF4 import MFDataset as mfds"
   ]
  },
  {
   "cell_type": "code",
   "execution_count": null,
   "metadata": {},
   "outputs": [],
   "source": [
    "era5_dir = \"/ccs/home/h1x/scratchp/wrfhydro_cacti/era5-land/regridded\"\n",
    "era5o_dir = \"/ccs/home/h1x/scratchp/wrfhydro_cacti/era5-land/no_lake_data\"\n",
    "wrf_dir = \"/ccs/home/h1x/scratchp/wrfhydro_cacti/wrfhydro_run/run01/out\"\n",
    "geogrid = ds('/ccs/home/h1x/scratchp/wrfhydro_cacti/geogrid/geo_em.d01.nc')"
   ]
  },
  {
   "cell_type": "markdown",
   "metadata": {},
   "source": [
    "## First Layer Soil Moisture and Temperature"
   ]
  },
  {
   "cell_type": "markdown",
   "metadata": {},
   "source": [
    "### 2018/10/26"
   ]
  },
  {
   "cell_type": "code",
   "execution_count": null,
   "metadata": {},
   "outputs": [],
   "source": [
    "t = \"201810260000\"\n",
    "wrf = ds(\"{:s}/{:s}.LDASOUT_DOMAIN1\".format(wrf_dir, t))\n",
    "era5o = ds(\"{:s}/ecmf_{:s}_an_sfc_unpacked.nc\".format(era5o_dir, t[0:8]))\n",
    "wrf_lats = geogrid['XLAT_M'][0,:,:]\n",
    "wrf_lons = geogrid['XLONG_M'][0,:,:]\n",
    "era5_lons, era5_lats = np.meshgrid(era5o['longitude'], era5o['latitude'])\n",
    "it = cftime.date2index(datetime.strptime(t, \"%Y%m%d%H%M%S\"), era5o['time'])\n",
    "swvl1_era = ds(\"{:s}/swvl1_{:s}.nc\".format(era5_dir, t))['swvl1'][:]\n",
    "# swvl2_era = ds(\"{:s}/swvl2_{:s}.nc\".format(era5_dir, t))['swvl2'][:]\n",
    "# swvl3_era = ds(\"{:s}/swvl3_{:s}.nc\".format(era5_dir, t))['swvl3'][:]\n",
    "# swvl4_era = ds(\"{:s}/swvl4_{:s}.nc\".format(era5_dir, t))['swvl4'][:]\n",
    "stl1_era = ds(\"{:s}/stl1_{:s}.nc\".format(era5_dir, t))['stl1'][:]\n",
    "# stl2_era = ds(\"{:s}/stl2_{:s}.nc\".format(era5_dir, t))['stl2'][:]\n",
    "# stl3_era = ds(\"{:s}/stl3_{:s}.nc\".format(era5_dir, t))['stl3'][:]\n",
    "# stl4_era = ds(\"{:s}/stl4_{:s}.nc\".format(era5_dir, t))['stl4'][:]"
   ]
  },
  {
   "cell_type": "code",
   "execution_count": null,
   "metadata": {},
   "outputs": [],
   "source": [
    "sns.set()\n",
    "sns.set_context('poster')\n",
    "sns.set_style('ticks')\n",
    "\n",
    "levs = np.arange(0., 0.65, 0.08)\n",
    "# levs = None\n",
    "\n",
    "fig = plt.figure(figsize=(8, 18))\n",
    "\n",
    "ax1 = fig.add_axes([0.05, 0.05, 0.8, 0.4], projection=crs.PlateCarree())\n",
    "ax1.contour(wrf_lons, wrf_lats, swvl1_era[0,:,:],\n",
    "            levels=levs,\n",
    "            linewidths = 1.5,\n",
    "            colors=\"black\")\n",
    "ct = ax1.contourf(wrf_lons, wrf_lats, swvl1_era[0,:,:], \n",
    "            levels=levs,\n",
    "            extend='neither',\n",
    "            cmap=cc.cm.coolwarm_r)\n",
    "ax1.set_xlim(wrf_lons.min(), wrf_lons.max())\n",
    "ax1.set_ylim(wrf_lats.min(), wrf_lats.max())\n",
    "gl1 = ax1.gridlines(color=\"black\", linestyle=\"dotted\", draw_labels=True, x_inline=False, y_inline=False)\n",
    "gl1.right_labels = False\n",
    "gl1.top_labels = False \n",
    "ax1.set_title('ERA5 regridded')\n",
    "ax2 = fig.add_axes([0.05, 0.4, 0.8, 0.4], projection=crs.PlateCarree())\n",
    "ax2.contour(era5_lons, era5_lats, era5o['swvl1'][it,:,:],\n",
    "            levels=levs,\n",
    "            linewidths = 1.5,\n",
    "            colors=\"black\")\n",
    "ax2.contourf(era5_lons, era5_lats, era5o['swvl1'][it,:,:],\n",
    "            levels=levs,\n",
    "            extend='neither',\n",
    "            cmap=cc.cm.coolwarm_r)\n",
    "ax2.set_xlim(wrf_lons.min(), wrf_lons.max())\n",
    "ax2.set_ylim(wrf_lats.min(), wrf_lats.max())\n",
    "gl2 = ax2.gridlines(color=\"black\", linestyle=\"dotted\", draw_labels=True, x_inline=False, y_inline=False)\n",
    "gl2.right_labels = False\n",
    "gl2.top_labels = False \n",
    "ax2.set_title('ERA5 original')\n",
    "cax = fig.add_axes([0.9, 0.1, 0.03, 0.3])\n",
    "plt.colorbar(ct, cax=cax)\n",
    "plt.show()"
   ]
  },
  {
   "cell_type": "markdown",
   "metadata": {},
   "source": [
    "### 2019/03/15"
   ]
  },
  {
   "cell_type": "code",
   "execution_count": null,
   "metadata": {},
   "outputs": [],
   "source": [
    "t = \"201903150000\"\n",
    "wrf = ds(\"{:s}/{:s}.LDASOUT_DOMAIN1\".format(wrf_dir, t))\n",
    "era5o = ds(\"{:s}/ecmf_{:s}_an_sfc_unpacked.nc\".format(era5o_dir, t[0:8]))\n",
    "wrf_lats = geogrid['XLAT_M'][0,:,:]\n",
    "wrf_lons = geogrid['XLONG_M'][0,:,:]\n",
    "era5_lons, era5_lats = np.meshgrid(era5o['longitude'], era5o['latitude'])\n",
    "it = cftime.date2index(datetime.strptime(t, \"%Y%m%d%H%M%S\"), era5o['time'])\n",
    "swvl1_era = ds(\"{:s}/swvl1_{:s}.nc\".format(era5_dir, t))['swvl1'][:]\n",
    "# swvl2_era = ds(\"{:s}/swvl2_{:s}.nc\".format(era5_dir, t))['swvl2'][:]\n",
    "# swvl3_era = ds(\"{:s}/swvl3_{:s}.nc\".format(era5_dir, t))['swvl3'][:]\n",
    "# swvl4_era = ds(\"{:s}/swvl4_{:s}.nc\".format(era5_dir, t))['swvl4'][:]\n",
    "stl1_era = ds(\"{:s}/stl1_{:s}.nc\".format(era5_dir, t))['stl1'][:]\n",
    "# stl2_era = ds(\"{:s}/stl2_{:s}.nc\".format(era5_dir, t))['stl2'][:]\n",
    "# stl3_era = ds(\"{:s}/stl3_{:s}.nc\".format(era5_dir, t))['stl3'][:]\n",
    "# stl4_era = ds(\"{:s}/stl4_{:s}.nc\".format(era5_dir, t))['stl4'][:]"
   ]
  },
  {
   "cell_type": "code",
   "execution_count": null,
   "metadata": {},
   "outputs": [],
   "source": [
    "sns.set()\n",
    "sns.set_context('poster')\n",
    "sns.set_style('ticks')\n",
    "\n",
    "levs = np.arange(0., 0.65, 0.08)\n",
    "# levs = None\n",
    "\n",
    "fig = plt.figure(figsize=(8, 18))\n",
    "\n",
    "ax1 = fig.add_axes([0.05, 0.05, 0.8, 0.4], projection=crs.PlateCarree())\n",
    "ax1.contour(wrf_lons, wrf_lats, swvl1_era[0,:,:],\n",
    "            levels=levs,\n",
    "            linewidths = 1.5,\n",
    "            colors=\"black\")\n",
    "ct = ax1.contourf(wrf_lons, wrf_lats, swvl1_era[0,:,:], \n",
    "            levels=levs,\n",
    "            extend='neither',\n",
    "            cmap=cc.cm.coolwarm_r)\n",
    "ax1.set_xlim(wrf_lons.min(), wrf_lons.max())\n",
    "ax1.set_ylim(wrf_lats.min(), wrf_lats.max())\n",
    "gl1 = ax1.gridlines(color=\"black\", linestyle=\"dotted\", draw_labels=True, x_inline=False, y_inline=False)\n",
    "gl1.right_labels = False\n",
    "gl1.top_labels = False \n",
    "ax1.set_title('ERA5 regridded')\n",
    "ax2 = fig.add_axes([0.05, 0.4, 0.8, 0.4], projection=crs.PlateCarree())\n",
    "ax2.contour(era5_lons, era5_lats, era5o['swvl1'][it,:,:],\n",
    "            levels=levs,\n",
    "            linewidths = 1.5,\n",
    "            colors=\"black\")\n",
    "ax2.contourf(era5_lons, era5_lats, era5o['swvl1'][it,:,:],\n",
    "            levels=levs,\n",
    "            extend='neither',\n",
    "            cmap=cc.cm.coolwarm_r)\n",
    "ax2.set_xlim(wrf_lons.min(), wrf_lons.max())\n",
    "ax2.set_ylim(wrf_lats.min(), wrf_lats.max())\n",
    "gl2 = ax2.gridlines(color=\"black\", linestyle=\"dotted\", draw_labels=True, x_inline=False, y_inline=False)\n",
    "gl2.right_labels = False\n",
    "gl2.top_labels = False \n",
    "ax2.set_title('ERA5 original')\n",
    "cax = fig.add_axes([0.9, 0.1, 0.03, 0.3])\n",
    "plt.colorbar(ct, cax=cax)\n",
    "plt.show()"
   ]
  },
  {
   "cell_type": "code",
   "execution_count": null,
   "metadata": {},
   "outputs": [],
   "source": [
    "sns.set()\n",
    "sns.set_context('poster')\n",
    "sns.set_style('ticks')\n",
    "\n",
    "levs = None\n",
    "levs = np.arange(268., 304.1, 2.)\n",
    "\n",
    "fig = plt.figure(figsize=(8, 18))\n",
    "\n",
    "ax1 = fig.add_axes([0.05, 0.05, 0.8, 0.4], projection=crs.PlateCarree())\n",
    "ax1.contour(wrf_lons, wrf_lats, stl1_era[0,:,:],\n",
    "            levels=levs,\n",
    "            linewidths = 1.5,\n",
    "            colors=\"black\")\n",
    "ct = ax1.contourf(wrf_lons, wrf_lats, stl1_era[0,:,:], \n",
    "            levels=levs,\n",
    "            extend='neither',\n",
    "            cmap=cc.cm.coolwarm)\n",
    "ax1.set_xlim(wrf_lons.min(), wrf_lons.max())\n",
    "ax1.set_ylim(wrf_lats.min(), wrf_lats.max())\n",
    "gl1 = ax1.gridlines(color=\"black\", linestyle=\"dotted\", draw_labels=True, x_inline=False, y_inline=False)\n",
    "gl1.right_labels = False\n",
    "gl1.top_labels = False \n",
    "ax1.set_title('ERA5 regridded')\n",
    "ax2 = fig.add_axes([0.05, 0.4, 0.8, 0.4], projection=crs.PlateCarree())\n",
    "ax2.contour(era5_lons, era5_lats, era5o['stl1'][it,:,:],\n",
    "            levels=levs,\n",
    "            linewidths = 1.5,\n",
    "            colors=\"black\")\n",
    "ax2.contourf(era5_lons, era5_lats, era5o['stl1'][it,:,:],\n",
    "            levels=levs,\n",
    "            extend='neither',\n",
    "            cmap=cc.cm.coolwarm)\n",
    "ax2.set_xlim(wrf_lons.min(), wrf_lons.max())\n",
    "ax2.set_ylim(wrf_lats.min(), wrf_lats.max())\n",
    "gl2 = ax2.gridlines(color=\"black\", linestyle=\"dotted\", draw_labels=True, x_inline=False, y_inline=False)\n",
    "gl2.right_labels = False\n",
    "gl2.top_labels = False \n",
    "ax2.set_title('ERA5 original')\n",
    "cax = fig.add_axes([0.9, 0.1, 0.03, 0.3])\n",
    "plt.colorbar(ct, cax=cax)\n",
    "plt.show()"
   ]
  }
 ],
 "metadata": {
  "interpreter": {
   "hash": "892e8f371a11fde5a8488ff10ea8fd04a2c1e421ab93a689bb69b27d45be4900"
  },
  "kernelspec": {
   "display_name": "Python 3.8.10 64-bit ('wrf-python': conda)",
   "name": "python3"
  },
  "language_info": {
   "codemirror_mode": {
    "name": "ipython",
    "version": 3
   },
   "file_extension": ".py",
   "mimetype": "text/x-python",
   "name": "python",
   "nbconvert_exporter": "python",
   "pygments_lexer": "ipython3",
   "version": "3.8.10"
  }
 },
 "nbformat": 4,
 "nbformat_minor": 2
}
